{
 "cells": [
  {
   "cell_type": "code",
   "execution_count": 1,
   "id": "6c4f6b30",
   "metadata": {},
   "outputs": [],
   "source": [
    "import pandas as pd\n",
    "import numpy as np"
   ]
  },
  {
   "cell_type": "code",
   "execution_count": 2,
   "id": "1af51e12",
   "metadata": {},
   "outputs": [],
   "source": [
    "latlon_df = pd.read_excel(\"210524_Public_School_Locations_2019-20.xlsx\", sheet_name=0)"
   ]
  },
  {
   "cell_type": "code",
   "execution_count": 3,
   "id": "0201c959",
   "metadata": {},
   "outputs": [],
   "source": [
    "school_info_df = pd.read_excel(\"School_Info_File.xlsx\", sheet_name=0)"
   ]
  },
  {
   "cell_type": "code",
   "execution_count": 5,
   "id": "7dda8998",
   "metadata": {},
   "outputs": [],
   "source": [
    "latlon_df = latlon_df[['NAME', 'STREET', 'CITY', 'ZIP', 'NMCNTY', 'LAT', 'LON']]"
   ]
  },
  {
   "cell_type": "code",
   "execution_count": 9,
   "id": "6965fa67",
   "metadata": {},
   "outputs": [],
   "source": [
    "latlon_df = latlon_df.rename({'NAME' : 'school_name_coord', 'ZIP':'zipcode_coord', 'NMCNTY':'county_name', 'LAT' : 'lat', 'LON' : 'lon'}, axis=1)"
   ]
  },
  {
   "cell_type": "code",
   "execution_count": 7,
   "id": "c2c15cf9",
   "metadata": {},
   "outputs": [
    {
     "data": {
      "text/plain": [
       "(1894, 7)"
      ]
     },
     "execution_count": 7,
     "metadata": {},
     "output_type": "execute_result"
    }
   ],
   "source": [
    "latlon_df.shape"
   ]
  },
  {
   "cell_type": "code",
   "execution_count": 6,
   "id": "5328deba",
   "metadata": {},
   "outputs": [],
   "source": [
    "school_info_df = school_info_df[['district_number', 'district_name', 'school_number', 'school_name', 'zipcode']]"
   ]
  },
  {
   "cell_type": "code",
   "execution_count": 8,
   "id": "a316923a",
   "metadata": {},
   "outputs": [
    {
     "data": {
      "text/plain": [
       "(1758, 5)"
      ]
     },
     "execution_count": 8,
     "metadata": {},
     "output_type": "execute_result"
    }
   ],
   "source": [
    "school_info_df.shape"
   ]
  },
  {
   "cell_type": "code",
   "execution_count": 13,
   "id": "ae633a11",
   "metadata": {},
   "outputs": [],
   "source": [
    "latlon_school = pd.merge(school_info_df, latlon_df,  how='left', left_on=['school_name','zipcode'], right_on = ['school_name_coord','zipcode_coord'])"
   ]
  },
  {
   "cell_type": "code",
   "execution_count": 14,
   "id": "e08db5c4",
   "metadata": {},
   "outputs": [
    {
     "data": {
      "text/plain": [
       "(1758, 12)"
      ]
     },
     "execution_count": 14,
     "metadata": {},
     "output_type": "execute_result"
    }
   ],
   "source": [
    "latlon_school.shape"
   ]
  },
  {
   "cell_type": "code",
   "execution_count": 16,
   "id": "5c240c2f",
   "metadata": {},
   "outputs": [],
   "source": [
    "#latlon_school.to_excel(r'latlon_school.xlsx', index = False)"
   ]
  },
  {
   "cell_type": "code",
   "execution_count": null,
   "id": "ad8b6571",
   "metadata": {},
   "outputs": [],
   "source": []
  }
 ],
 "metadata": {
  "kernelspec": {
   "display_name": "Python 3",
   "language": "python",
   "name": "python3"
  },
  "language_info": {
   "codemirror_mode": {
    "name": "ipython",
    "version": 3
   },
   "file_extension": ".py",
   "mimetype": "text/x-python",
   "name": "python",
   "nbconvert_exporter": "python",
   "pygments_lexer": "ipython3",
   "version": "3.8.8"
  }
 },
 "nbformat": 4,
 "nbformat_minor": 5
}
